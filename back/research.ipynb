{
 "cells": [
  {
   "cell_type": "code",
   "execution_count": 1,
   "metadata": {},
   "outputs": [],
   "source": [
    "import numpy as np\n",
    "import pandas as pd"
   ]
  },
  {
   "cell_type": "code",
   "execution_count": 2,
   "metadata": {},
   "outputs": [],
   "source": [
    "import tensorflow as tf"
   ]
  },
  {
   "cell_type": "code",
   "execution_count": 3,
   "metadata": {},
   "outputs": [
    {
     "data": {
      "text/plain": [
       "33"
      ]
     },
     "execution_count": 3,
     "metadata": {},
     "output_type": "execute_result"
    }
   ],
   "source": [
    "alphabet = [\"а\",\"б\",\"в\",\"г\",\"д\",\"е\",\"ё\",\"ж\",\"з\",\"и\",\"й\",\"к\",\"л\",\"м\",\"н\",\"о\",\n",
    "            \"п\",\"р\",\"с\",\"т\",\"у\",\"ф\",\"х\",\"ц\",\"ч\",\"ш\",\"щ\",\"ъ\",\"ы\",\"ь\",\"э\",\"ю\",\"я\"]\n",
    "len(alphabet)"
   ]
  },
  {
   "cell_type": "markdown",
   "metadata": {},
   "source": [
    "mv  -v ~/Downloads/* ~/Videos/\n",
    "\n",
    "It will move all the files and folders from Downloads folder to Videos folder."
   ]
  },
  {
   "cell_type": "code",
   "execution_count": 8,
   "metadata": {},
   "outputs": [],
   "source": [
    "import os"
   ]
  },
  {
   "cell_type": "code",
   "execution_count": 20,
   "metadata": {
    "collapsed": true,
    "jupyter": {
     "outputs_hidden": true
    },
    "tags": []
   },
   "outputs": [
    {
     "data": {
      "text/plain": [
       "['01_20_00',\n",
       " '01_14_00',\n",
       " '01_04_00',\n",
       " '01_30_00',\n",
       " '01_10_00',\n",
       " '01_24_00',\n",
       " '01_00_00',\n",
       " '01_11_00',\n",
       " '01_25_00',\n",
       " '01_01_00',\n",
       " '01_21_00',\n",
       " '01_15_00',\n",
       " '01_05_00',\n",
       " '01_31_00',\n",
       " '00_24_00',\n",
       " '00_10_00',\n",
       " '00_00_00',\n",
       " '00_14_00',\n",
       " '00_20_00',\n",
       " '00_30_00',\n",
       " '00_04_00',\n",
       " '00_15_00',\n",
       " '00_21_00',\n",
       " '00_31_00',\n",
       " '00_05_00',\n",
       " '00_25_00',\n",
       " '00_11_00',\n",
       " '00_01_00',\n",
       " '01_18_00',\n",
       " '00_16_00',\n",
       " '00_22_00',\n",
       " '00_32_00',\n",
       " '00_06_00',\n",
       " '01_08_00',\n",
       " '01_28_00',\n",
       " '00_26_00',\n",
       " '00_12_00',\n",
       " '00_02_00',\n",
       " '01_29_00',\n",
       " '00_27_00',\n",
       " '00_13_00',\n",
       " '00_03_00',\n",
       " '01_19_00',\n",
       " '00_17_00',\n",
       " '00_23_00',\n",
       " '00_07_00',\n",
       " '01_09_00',\n",
       " '01_12_00',\n",
       " '00_28_00',\n",
       " '01_26_00',\n",
       " '01_02_00',\n",
       " '01_22_00',\n",
       " '00_18_00',\n",
       " '01_16_00',\n",
       " '01_06_00',\n",
       " '00_08_00',\n",
       " '01_32_00',\n",
       " '01_23_00',\n",
       " '00_19_00',\n",
       " '01_17_00',\n",
       " '01_07_00',\n",
       " '00_09_00',\n",
       " '01_13_00',\n",
       " '00_29_00',\n",
       " '01_27_00',\n",
       " '01_03_00']"
      ]
     },
     "execution_count": 20,
     "metadata": {},
     "output_type": "execute_result"
    }
   ],
   "source": [
    "pth = 'data/archive/00_00_00/00_00_00'\n",
    "pths = os.listdir('data/archive')\n",
    "pths.remove('.DS_Store')\n",
    "pths"
   ]
  },
  {
   "cell_type": "code",
   "execution_count": 25,
   "metadata": {},
   "outputs": [
    {
     "data": {
      "text/plain": [
       "'mv  -v data/archive/01_20_00/01_20_00/* data/archive/01_20_00/'"
      ]
     },
     "execution_count": 25,
     "metadata": {},
     "output_type": "execute_result"
    }
   ],
   "source": [
    "i = 0\n",
    "f\"mv  -v {paths[i]}/* {paths[0][:paths[0].rfind('/')]}/\""
   ]
  },
  {
   "cell_type": "code",
   "execution_count": 22,
   "metadata": {
    "tags": []
   },
   "outputs": [
    {
     "data": {
      "text/plain": [
       "['data/archive/01_20_00/01_20_00',\n",
       " 'data/archive/01_14_00/01_14_00',\n",
       " 'data/archive/01_04_00/01_04_00',\n",
       " 'data/archive/01_30_00/01_30_00',\n",
       " 'data/archive/01_10_00/01_10_00',\n",
       " 'data/archive/01_24_00/01_24_00',\n",
       " 'data/archive/01_00_00/01_00_00',\n",
       " 'data/archive/01_11_00/01_11_00',\n",
       " 'data/archive/01_25_00/01_25_00',\n",
       " 'data/archive/01_01_00/01_01_00',\n",
       " 'data/archive/01_21_00/01_21_00',\n",
       " 'data/archive/01_15_00/01_15_00',\n",
       " 'data/archive/01_05_00/01_05_00',\n",
       " 'data/archive/01_31_00/01_31_00',\n",
       " 'data/archive/00_24_00/00_24_00',\n",
       " 'data/archive/00_10_00/00_10_00',\n",
       " 'data/archive/00_00_00/00_00_00',\n",
       " 'data/archive/00_14_00/00_14_00',\n",
       " 'data/archive/00_20_00/00_20_00',\n",
       " 'data/archive/00_30_00/00_30_00',\n",
       " 'data/archive/00_04_00/00_04_00',\n",
       " 'data/archive/00_15_00/00_15_00',\n",
       " 'data/archive/00_21_00/00_21_00',\n",
       " 'data/archive/00_31_00/00_31_00',\n",
       " 'data/archive/00_05_00/00_05_00',\n",
       " 'data/archive/00_25_00/00_25_00',\n",
       " 'data/archive/00_11_00/00_11_00',\n",
       " 'data/archive/00_01_00/00_01_00',\n",
       " 'data/archive/01_18_00/01_18_00',\n",
       " 'data/archive/00_16_00/00_16_00',\n",
       " 'data/archive/00_22_00/00_22_00',\n",
       " 'data/archive/00_32_00/00_32_00',\n",
       " 'data/archive/00_06_00/00_06_00',\n",
       " 'data/archive/01_08_00/01_08_00',\n",
       " 'data/archive/01_28_00/01_28_00',\n",
       " 'data/archive/00_26_00/00_26_00',\n",
       " 'data/archive/00_12_00/00_12_00',\n",
       " 'data/archive/00_02_00/00_02_00',\n",
       " 'data/archive/01_29_00/01_29_00',\n",
       " 'data/archive/00_27_00/00_27_00',\n",
       " 'data/archive/00_13_00/00_13_00',\n",
       " 'data/archive/00_03_00/00_03_00',\n",
       " 'data/archive/01_19_00/01_19_00',\n",
       " 'data/archive/00_17_00/00_17_00',\n",
       " 'data/archive/00_23_00/00_23_00',\n",
       " 'data/archive/00_07_00/00_07_00',\n",
       " 'data/archive/01_09_00/01_09_00',\n",
       " 'data/archive/01_12_00/01_12_00',\n",
       " 'data/archive/00_28_00/00_28_00',\n",
       " 'data/archive/01_26_00/01_26_00',\n",
       " 'data/archive/01_02_00/01_02_00',\n",
       " 'data/archive/01_22_00/01_22_00',\n",
       " 'data/archive/00_18_00/00_18_00',\n",
       " 'data/archive/01_16_00/01_16_00',\n",
       " 'data/archive/01_06_00/01_06_00',\n",
       " 'data/archive/00_08_00/00_08_00',\n",
       " 'data/archive/01_32_00/01_32_00',\n",
       " 'data/archive/01_23_00/01_23_00',\n",
       " 'data/archive/00_19_00/00_19_00',\n",
       " 'data/archive/01_17_00/01_17_00',\n",
       " 'data/archive/01_07_00/01_07_00',\n",
       " 'data/archive/00_09_00/00_09_00',\n",
       " 'data/archive/01_13_00/01_13_00',\n",
       " 'data/archive/00_29_00/00_29_00',\n",
       " 'data/archive/01_27_00/01_27_00',\n",
       " 'data/archive/01_03_00/01_03_00']"
      ]
     },
     "execution_count": 22,
     "metadata": {},
     "output_type": "execute_result"
    }
   ],
   "source": [
    "paths = []\n",
    "for path in pths:\n",
    "    paths.append('data/archive/'+path+'/'+path)\n",
    "paths"
   ]
  },
  {
   "cell_type": "code",
   "execution_count": 32,
   "metadata": {},
   "outputs": [],
   "source": [
    "with open('move.sh', 'w') as file:\n",
    "    file.write('#!/bin/bash\\n')\n",
    "    for i in range(len(paths)):\n",
    "        file.write(f\"mv  -v {paths[i]}/* {paths[i][:paths[i].rfind('/')]}/\\n\")\n",
    "        file.write(f\"rm -r {paths[i]}\\n\")"
   ]
  },
  {
   "cell_type": "code",
   "execution_count": 29,
   "metadata": {},
   "outputs": [
    {
     "data": {
      "text/plain": [
       "[]"
      ]
     },
     "execution_count": 29,
     "metadata": {},
     "output_type": "execute_result"
    }
   ],
   "source": [
    "os.listdir('data/archive/00_00_00')"
   ]
  },
  {
   "cell_type": "code",
   "execution_count": null,
   "metadata": {},
   "outputs": [],
   "source": []
  }
 ],
 "metadata": {
  "interpreter": {
   "hash": "aee8b7b246df8f9039afb4144a1f6fd8d2ca17a180786b69acc140d282b71a49"
  },
  "kernelspec": {
   "display_name": "Python 3",
   "language": "python",
   "name": "python3"
  },
  "language_info": {
   "codemirror_mode": {
    "name": "ipython",
    "version": 3
   },
   "file_extension": ".py",
   "mimetype": "text/x-python",
   "name": "python",
   "nbconvert_exporter": "python",
   "pygments_lexer": "ipython3",
   "version": "3.7.3"
  }
 },
 "nbformat": 4,
 "nbformat_minor": 4
}
